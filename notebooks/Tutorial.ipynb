{
 "cells": [
  {
   "cell_type": "markdown",
   "id": "9203dd3f-7ec7-4508-82e3-a2d0d8ea47b3",
   "metadata": {},
   "source": [
    "# NetID Tutorial"
   ]
  },
  {
   "cell_type": "markdown",
   "id": "32ee0642-6d50-4278-813c-d97a8893bcf8",
   "metadata": {},
   "source": [
    "In this tutorial, I would use hematopoietic single cell RNA-seq dataset to show how to conduct network inference through NetID. First, load single cell datasets and the NetID packages"
   ]
  },
  {
   "cell_type": "code",
   "execution_count": 1,
   "id": "40a5a241-cec8-4ae7-b6f1-fa240f7b28bf",
   "metadata": {
    "tags": []
   },
   "outputs": [],
   "source": [
    "library(NetID)\n",
    "sce <- readRDS(\"blood_sce2.rds\")"
   ]
  },
  {
   "cell_type": "markdown",
   "id": "156a0e8c-367f-4dce-8120-cad6af926c2f",
   "metadata": {
    "tags": []
   },
   "source": [
    "The sce objects contains the spliced/unspliced read count matrices and the metadata of cells. For showing the performance, I also loaded the transcriptional factors gene sets and the tissue-unspecific GRN curated from ChIP-seq datasets as the ground truth."
   ]
  },
  {
   "cell_type": "code",
   "execution_count": 2,
   "id": "b441c88a-fb18-41a5-ab11-ae01fec7e0db",
   "metadata": {
    "tags": []
   },
   "outputs": [
    {
     "name": "stderr",
     "output_type": "stream",
     "text": [
      "Loading required package: SingleCellExperiment\n",
      "\n",
      "Loading required package: SummarizedExperiment\n",
      "\n",
      "Loading required package: MatrixGenerics\n",
      "\n",
      "Loading required package: matrixStats\n",
      "\n",
      "\n",
      "Attaching package: 'MatrixGenerics'\n",
      "\n",
      "\n",
      "The following objects are masked from 'package:matrixStats':\n",
      "\n",
      "    colAlls, colAnyNAs, colAnys, colAvgsPerRowSet, colCollapse,\n",
      "    colCounts, colCummaxs, colCummins, colCumprods, colCumsums,\n",
      "    colDiffs, colIQRDiffs, colIQRs, colLogSumExps, colMadDiffs,\n",
      "    colMads, colMaxs, colMeans2, colMedians, colMins, colOrderStats,\n",
      "    colProds, colQuantiles, colRanges, colRanks, colSdDiffs, colSds,\n",
      "    colSums2, colTabulates, colVarDiffs, colVars, colWeightedMads,\n",
      "    colWeightedMeans, colWeightedMedians, colWeightedSds,\n",
      "    colWeightedVars, rowAlls, rowAnyNAs, rowAnys, rowAvgsPerColSet,\n",
      "    rowCollapse, rowCounts, rowCummaxs, rowCummins, rowCumprods,\n",
      "    rowCumsums, rowDiffs, rowIQRDiffs, rowIQRs, rowLogSumExps,\n",
      "    rowMadDiffs, rowMads, rowMaxs, rowMeans2, rowMedians, rowMins,\n",
      "    rowOrderStats, rowProds, rowQuantiles, rowRanges, rowRanks,\n",
      "    rowSdDiffs, rowSds, rowSums2, rowTabulates, rowVarDiffs, rowVars,\n",
      "    rowWeightedMads, rowWeightedMeans, rowWeightedMedians,\n",
      "    rowWeightedSds, rowWeightedVars\n",
      "\n",
      "\n",
      "Loading required package: GenomicRanges\n",
      "\n",
      "Loading required package: stats4\n",
      "\n",
      "Loading required package: BiocGenerics\n",
      "\n",
      "\n",
      "Attaching package: 'BiocGenerics'\n",
      "\n",
      "\n",
      "The following objects are masked from 'package:stats':\n",
      "\n",
      "    IQR, mad, sd, var, xtabs\n",
      "\n",
      "\n",
      "The following objects are masked from 'package:base':\n",
      "\n",
      "    anyDuplicated, aperm, append, as.data.frame, basename, cbind,\n",
      "    colnames, dirname, do.call, duplicated, eval, evalq, Filter, Find,\n",
      "    get, grep, grepl, intersect, is.unsorted, lapply, Map, mapply,\n",
      "    match, mget, order, paste, pmax, pmax.int, pmin, pmin.int,\n",
      "    Position, rank, rbind, Reduce, rownames, sapply, setdiff, sort,\n",
      "    table, tapply, union, unique, unsplit, which.max, which.min\n",
      "\n",
      "\n",
      "Loading required package: S4Vectors\n",
      "\n",
      "\n",
      "Attaching package: 'S4Vectors'\n",
      "\n",
      "\n",
      "The following objects are masked from 'package:base':\n",
      "\n",
      "    expand.grid, I, unname\n",
      "\n",
      "\n",
      "Loading required package: IRanges\n",
      "\n",
      "Loading required package: GenomeInfoDb\n",
      "\n",
      "Loading required package: Biobase\n",
      "\n",
      "Welcome to Bioconductor\n",
      "\n",
      "    Vignettes contain introductory material; view with\n",
      "    'browseVignettes()'. To cite Bioconductor, see\n",
      "    'citation(\"Biobase\")', and for packages 'citation(\"pkgname\")'.\n",
      "\n",
      "\n",
      "\n",
      "Attaching package: 'Biobase'\n",
      "\n",
      "\n",
      "The following object is masked from 'package:MatrixGenerics':\n",
      "\n",
      "    rowMedians\n",
      "\n",
      "\n",
      "The following objects are masked from 'package:matrixStats':\n",
      "\n",
      "    anyMissing, rowMedians\n",
      "\n",
      "\n"
     ]
    },
    {
     "data": {
      "text/plain": [
       "class: SingleCellExperiment \n",
       "dim: 909 4444 \n",
       "metadata(0):\n",
       "assays(2): spliced unspliced\n",
       "rownames(909): Aatf Abl1 ... Zswim4 Zzz3\n",
       "rowData names(0):\n",
       "colnames(4444): AATTCAGTATCACCGAG GAACGCCATTGTAATCCC ...\n",
       "  ATTTGGGAGATCAAGTG AGTGGATGGCTGTTCTT\n",
       "colData names(7): orig.ident nCount_RNA ... seurat_clusters celltype\n",
       "reducedDimNames(0):\n",
       "mainExpName: NULL\n",
       "altExpNames(0):"
      ]
     },
     "metadata": {},
     "output_type": "display_data"
    }
   ],
   "source": [
    "sce"
   ]
  },
  {
   "cell_type": "code",
   "execution_count": 3,
   "id": "3dba2558-231d-4959-8a75-f3eccc46cdee",
   "metadata": {
    "tags": []
   },
   "outputs": [],
   "source": [
    "TF <- read.csv(\"mouse-tfs.csv\",header=TRUE,stringsAsFactors=FALSE)\n",
    "gt_net <- read.csv(\"Non-Specific-ChIP-seq-network.csv\",header=TRUE, stringsAsFactors=FALSE)"
   ]
  },
  {
   "cell_type": "markdown",
   "id": "0dd6da02-b8b6-4a0e-941b-26de2ce0f001",
   "metadata": {},
   "source": [
    "## 1. Learning GRN skeleton from sketched and aggregated single cell RNA-seq datasets\n",
    "At the first step, NetID would samples the single cell RNA-seq dataset through sketching methods, e.g. geosketch or Seurat sketch. These sketching methods would sample the cells as the “meta-cells” which would cover all latent manifold of single cell transcriptome. Then, the nearest neighborhoods of those meta-cells would specifically assign to the one meta cell according to the edges P-values calculated from VarID, and finally perform aggregation. The resulted GEP of meta-cells would be used as the input of network inference methods like GENIE3 (default), to learn the basic network structure."
   ]
  },
  {
   "cell_type": "code",
   "execution_count": 4,
   "id": "35cf8500-3f4b-498a-8914-96c4e413ec07",
   "metadata": {
    "tags": []
   },
   "outputs": [
    {
     "name": "stderr",
     "output_type": "stream",
     "text": [
      "Loading required package: scuttle\n",
      "\n",
      "Loading required package: ggplot2\n",
      "\n"
     ]
    },
    {
     "name": "stdout",
     "output_type": "stream",
     "text": [
      "Find VarID object at local dictionary, Read VarID object...\n",
      "Using NetID to perform skeleton estimation...\n",
      "prune sampled neighbourhoods according to q-value...\n",
      "assign weight for edges using p-value...\n",
      "aggregated matrix: the number of genes:895; the number of samples:424\n"
     ]
    },
    {
     "name": "stderr",
     "output_type": "stream",
     "text": [
      "Tree method: RF\n",
      "K: sqrt\n",
      "Number of trees: 500\n",
      "\n",
      "\n",
      "Using 12 cores.\n",
      "\n"
     ]
    },
    {
     "name": "stdout",
     "output_type": "stream",
     "text": [
      "Done...\n"
     ]
    }
   ],
   "source": [
    "library(scater)\n",
    "dyn.out <- RunNetID(sce, regulators = TF$TF, targets = TF$TF,netID_params = list(normalize=FALSE), dynamicInfer = FALSE)"
   ]
  },
  {
   "cell_type": "markdown",
   "id": "5455ea17-8cbf-416a-a17c-efd31ae4a0cd",
   "metadata": {
    "tags": []
   },
   "source": [
    "This step only output the global GRN learned from all sampled meta-cells. To learn lineage-specific GRN, we need to run cellrank and Palantir at first. NetID provided a function for end-to-end cell fate analysis through cellrank and Palantir."
   ]
  },
  {
   "cell_type": "code",
   "execution_count": 7,
   "id": "36741eb7-cc99-43e2-bc44-eeadbeabdab6",
   "metadata": {
    "tags": []
   },
   "outputs": [
    {
     "name": "stdout",
     "output_type": "stream",
     "text": [
      "Using palantir to perform cell fate analysis...\n",
      "Using cellrank with stochastic mode velocity to perform cell fate analysis...\n"
     ]
    }
   ],
   "source": [
    "FateDynamic(sce,global_params = list(cluster_label = \"celltype\",min_counts = 0 ,nhvgs = 3000),palantir_params = list(start_cell = \"TGACACAAGGCCTTCAGGT\"))"
   ]
  },
  {
   "cell_type": "code",
   "execution_count": null,
   "id": "ef8c1813-7d0f-46ba-bf4a-5a043ba7006e",
   "metadata": {},
   "outputs": [],
   "source": [
    "dyn.out <- RunNetID(sce, regulators = TF$TF, targets = TF$TF,netID_params = list(normalize=FALSE), dynamicInfer = TRUE)"
   ]
  },
  {
   "cell_type": "markdown",
   "id": "35f0fe9e-904b-49ec-b6f4-e4bfddbf69fd",
   "metadata": {
    "tags": []
   },
   "source": [
    "## 2. Learning cell fate specific GRN through granger causal regression model.\n",
    "The dyn.out object contains the skeleton of global network (learned from all cells without lineage information) and cell fate probability information. NetID would run L2-penalized granger regression model for each target genes to re-calculate the regulatory coefficients of the skeleton, with using cell fate probability as the “time-series”, and then aggregate the learned coefficients with the global coefficients through rank method."
   ]
  },
  {
   "cell_type": "code",
   "execution_count": null,
   "id": "0beaeaa9-0b64-43ad-9046-daa2ec83b49e",
   "metadata": {},
   "outputs": [],
   "source": [
    "GRN <- FateCausal(dyn.out,velo_infor = FALSE,L=10,aggre_method = \"RobustRankAggreg\")"
   ]
  },
  {
   "cell_type": "markdown",
   "id": "ee514ada-caf7-4635-b642-5eec319a3a4c",
   "metadata": {},
   "source": [
    "The output of FateCausal is a list object contains the lineage specific GRN.\n",
    "And finally, we benchmarked the learned cell type specific GRN, with the network learned from GENIE3 in the first stage. We used the ChIP-seq datasets as the ground truth for benchmarking."
   ]
  }
 ],
 "metadata": {
  "kernelspec": {
   "display_name": "R",
   "language": "R",
   "name": "ir"
  },
  "language_info": {
   "codemirror_mode": "r",
   "file_extension": ".r",
   "mimetype": "text/x-r-source",
   "name": "R",
   "pygments_lexer": "r",
   "version": "4.2.2"
  }
 },
 "nbformat": 4,
 "nbformat_minor": 5
}
