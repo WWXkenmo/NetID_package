{
 "cells": [
  {
   "cell_type": "markdown",
   "id": "9203dd3f-7ec7-4508-82e3-a2d0d8ea47b3",
   "metadata": {},
   "source": [
    "# NetID Tutorial"
   ]
  },
  {
   "cell_type": "markdown",
   "id": "32ee0642-6d50-4278-813c-d97a8893bcf8",
   "metadata": {},
   "source": [
    "In this tutorial, I would use hematopoietic single cell RNA-seq dataset to show how to conduct network inference through NetID. First, load single cell datasets and the NetID packages"
   ]
  },
  {
   "cell_type": "code",
   "execution_count": 10,
   "id": "40a5a241-cec8-4ae7-b6f1-fa240f7b28bf",
   "metadata": {
    "tags": []
   },
   "outputs": [],
   "source": [
    "library(NetID)\n",
    "library(RaceID)\n",
    "sce <- readRDS(\"blood_sce.rds\")"
   ]
  },
  {
   "cell_type": "markdown",
   "id": "156a0e8c-367f-4dce-8120-cad6af926c2f",
   "metadata": {
    "tags": []
   },
   "source": [
    "The sce objects contains the spliced/unspliced read count matrices and the metadata of cells. For showing the performance, I also loaded the transcriptional factors gene sets and the tissue-unspecific GRN curated from ChIP-seq datasets as the ground truth."
   ]
  },
  {
   "cell_type": "code",
   "execution_count": 2,
   "id": "c1cb609b-efda-4bb9-93e3-2889fbf86778",
   "metadata": {
    "tags": []
   },
   "outputs": [
    {
     "data": {
      "text/plain": [
       "class: SingleCellExperiment \n",
       "dim: 3439 4742 \n",
       "metadata(0):\n",
       "assays(2): spliced unspliced\n",
       "rownames(3439): X0610007P14Rik X0610010K14Rik ... Zyx l7Rn6\n",
       "rowData names(0):\n",
       "colnames(4742): bBM1 bBM2 ... bBM5312 bBM5315\n",
       "colData names(1): cluster\n",
       "reducedDimNames(0):\n",
       "mainExpName: NULL\n",
       "altExpNames(0):"
      ]
     },
     "metadata": {},
     "output_type": "display_data"
    }
   ],
   "source": [
    "sce"
   ]
  },
  {
   "cell_type": "code",
   "execution_count": 4,
   "id": "3dba2558-231d-4959-8a75-f3eccc46cdee",
   "metadata": {
    "tags": []
   },
   "outputs": [],
   "source": [
    "TF <- read.csv(\"mouse-tfs.csv\",header=TRUE,stringsAsFactors=FALSE)"
   ]
  },
  {
   "cell_type": "markdown",
   "id": "0dd6da02-b8b6-4a0e-941b-26de2ce0f001",
   "metadata": {},
   "source": [
    "## 1. Learning GRN skeleton from sketched and aggregated single cell RNA-seq datasets\n",
    "At the first step, NetID would samples the single cell RNA-seq dataset through sketching methods, e.g. geosketch or Seurat sketch. These sketching methods would sample the cells as the “meta-cells” which would cover all latent manifold of single cell transcriptome. Then, the nearest neighborhoods of those meta-cells would specifically assign to the one meta cell according to the edges P-values calculated from VarID, and finally perform aggregation. The resulted GEP of meta-cells would be used as the input of network inference methods like GENIE3 (default), to learn the basic network structure."
   ]
  },
  {
   "cell_type": "code",
   "execution_count": 5,
   "id": "35cf8500-3f4b-498a-8914-96c4e413ec07",
   "metadata": {
    "tags": []
   },
   "outputs": [
    {
     "name": "stdout",
     "output_type": "stream",
     "text": [
      "Build VarID object...\n",
      "Using NetID to perform skeleton estimation...\n",
      "prune sampled neighbourhoods according to q-value...\n",
      "assign weight for edges using p-value...\n",
      "aggregated matrix: the number of genes:356; the number of samples:425\n"
     ]
    },
    {
     "name": "stderr",
     "output_type": "stream",
     "text": [
      "Tree method: RF\n",
      "K: sqrt\n",
      "Number of trees: 500\n",
      "\n",
      "\n",
      "Using 12 cores.\n",
      "\n"
     ]
    },
    {
     "name": "stdout",
     "output_type": "stream",
     "text": [
      "Done...\n"
     ]
    }
   ],
   "source": [
    "dyn.out <- RunNetID(sce, regulators = TF$TF, targets = TF$TF,netID_params = list(normalize=FALSE), dynamicInfer = FALSE)"
   ]
  },
  {
   "cell_type": "markdown",
   "id": "5455ea17-8cbf-416a-a17c-efd31ae4a0cd",
   "metadata": {
    "tags": []
   },
   "source": [
    "This step only output the global GRN learned from all sampled meta-cells. To learn lineage-specific GRN, we need to run cellrank and Palantir at first. NetID provided a function for end-to-end cell fate analysis through cellrank and Palantir."
   ]
  },
  {
   "cell_type": "code",
   "execution_count": 13,
   "id": "36741eb7-cc99-43e2-bc44-eeadbeabdab6",
   "metadata": {
    "tags": []
   },
   "outputs": [
    {
     "name": "stdout",
     "output_type": "stream",
     "text": [
      "Using palantir to perform cell fate analysis...\n"
     ]
    }
   ],
   "source": [
    "FateDynamic(sce,global_params = list(cluster_label = \"cluster\",min_counts = 10 ,nhvgs = 3000,velo = FALSE),palantir_params = list(start_cell = \"bBM1\"))"
   ]
  },
  {
   "cell_type": "markdown",
   "id": "e24b9115-d312-4d05-82ca-1721c76b2bcf",
   "metadata": {},
   "source": [
    "NetID provides three methods for identifying root cell, includes stemness score based method: SCENT (scent) and CytoTRACE (cytotrace), or use marekr gene (markergene), in tutorial just randomly set the cell \"bBM1\" as the root cell, user could manually set the root cell they want."
   ]
  },
  {
   "cell_type": "code",
   "execution_count": 8,
   "id": "fe6f3acd-c67f-41a7-aa30-767ffc4967c9",
   "metadata": {
    "tags": []
   },
   "outputs": [
    {
     "name": "stdout",
     "output_type": "stream",
     "text": [
      "Find VarID object at local dictionary, Read VarID object...\n",
      "Using NetID to perform skeleton estimation...\n",
      "prune sampled neighbourhoods according to q-value...\n",
      "assign weight for edges using p-value...\n",
      "aggregated matrix: the number of genes:356; the number of samples:411\n"
     ]
    },
    {
     "name": "stderr",
     "output_type": "stream",
     "text": [
      "Tree method: RF\n",
      "K: sqrt\n",
      "Number of trees: 500\n",
      "\n",
      "\n",
      "Using 12 cores.\n",
      "\n"
     ]
    },
    {
     "name": "stdout",
     "output_type": "stream",
     "text": [
      "Classify lineage for palantir fate prob...\n",
      "     cluster1     cluster2     cluster3 cluster4  cluster5\n",
      "3  0.02469504 2.922082e-04 9.106718e-08 0.155587 2.0602990\n",
      "5 40.49395588 3.422218e+03 1.098090e+07 6.427273 0.4853664\n",
      "Allow shared cell state between different lineage...\n",
      "Done...\n"
     ]
    }
   ],
   "source": [
    "library(reticulate)\n",
    "dyn.out <- RunNetID(sce,regulators = TF$TF, targets = TF$TF,netID_params =\n",
    "                    list(normalize=FALSE), dynamicInfer = TRUE,velo=FALSE)"
   ]
  },
  {
   "cell_type": "markdown",
   "id": "56de372d-49d0-4f66-96ca-a8190d682100",
   "metadata": {
    "tags": []
   },
   "source": [
    "In NetID we classify the cells according to the fate probability matrix using Gaussian Mixture Model, then we calculate the lineage fate probability fold change to assigh the cluster to the specific lineage"
   ]
  },
  {
   "cell_type": "markdown",
   "id": "35f0fe9e-904b-49ec-b6f4-e4bfddbf69fd",
   "metadata": {
    "tags": []
   },
   "source": [
    "## 2. Learning cell fate specific GRN through granger causal regression model.\n",
    "The dyn.out object contains the skeleton of global network (learned from all cells without lineage information) and cell fate probability information. NetID would run L2-penalized granger regression model for each target genes to re-calculate the regulatory coefficients of the skeleton, with using cell fate probability as the “time-series”, and then aggregate the learned coefficients with the global coefficients through rank method."
   ]
  },
  {
   "cell_type": "code",
   "execution_count": 9,
   "id": "0beaeaa9-0b64-43ad-9046-daa2ec83b49e",
   "metadata": {},
   "outputs": [
    {
     "name": "stdout",
     "output_type": "stream",
     "text": [
      "Find grn_list object at local dictionary, Read grn_list...\n",
      "Integrating Network Skeleton And Granger Causal Coefficience...\n"
     ]
    }
   ],
   "source": [
    "GRN <- FateCausal(dyn.out,velo_infor = FALSE,L=30,aggre_method = \"RobustRankAggreg\")"
   ]
  },
  {
   "cell_type": "markdown",
   "id": "ee514ada-caf7-4635-b642-5eec319a3a4c",
   "metadata": {},
   "source": [
    "The output of FateCausal is a list object contains the lineage specific GRN."
   ]
  },
  {
   "cell_type": "code",
   "execution_count": null,
   "id": "112c42ca-5102-4cd6-a32f-94b251344e46",
   "metadata": {},
   "outputs": [],
   "source": []
  }
 ],
 "metadata": {
  "kernelspec": {
   "display_name": "R",
   "language": "R",
   "name": "ir"
  },
  "language_info": {
   "codemirror_mode": "r",
   "file_extension": ".r",
   "mimetype": "text/x-r-source",
   "name": "R",
   "pygments_lexer": "r",
   "version": "4.2.2"
  }
 },
 "nbformat": 4,
 "nbformat_minor": 5
}
